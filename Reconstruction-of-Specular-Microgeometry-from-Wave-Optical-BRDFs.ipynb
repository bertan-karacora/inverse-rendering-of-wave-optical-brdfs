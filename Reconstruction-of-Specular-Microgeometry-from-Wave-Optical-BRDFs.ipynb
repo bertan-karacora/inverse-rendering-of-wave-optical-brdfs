{
  "cells": [
    {
      "cell_type": "markdown",
      "metadata": {
        "colab_type": "text",
        "id": "view-in-github"
      },
      "source": [
        "<a href=\"https://colab.research.google.com/github/pixelrein-bertan/Inverse-Rendering-Inverse-Rendering-for-Capturing-Specular-Microgeometry-from-Wave-Optical-BRDFs/blob/master/Sandbox.ipynb\" target=\"_parent\"><img src=\"https://colab.research.google.com/assets/colab-badge.svg\" alt=\"Open In Colab\"/></a>"
      ]
    },
    {
      "cell_type": "markdown",
      "metadata": {
        "id": "pZiKnzt7Rj3b"
      },
      "source": [
        " # WaveOpticsBRDF sandbox"
      ]
    },
    {
      "cell_type": "markdown",
      "metadata": {
        "id": "QPfyHEBuShqa"
      },
      "source": [
        "## Setup"
      ]
    },
    {
      "cell_type": "markdown",
      "metadata": {
        "id": "l3iUNp9rSrM7"
      },
      "source": [
        "### Download code"
      ]
    },
    {
      "cell_type": "code",
      "execution_count": null,
      "metadata": {
        "colab": {
          "base_uri": "https://localhost:8080/"
        },
        "id": "bEVf14ebL7mp",
        "outputId": "8a4bb3ab-9866-4732-d12b-36eee87552f1"
      },
      "outputs": [],
      "source": [
        "!git clone \"https://github.com/pixelrein-bertan/Reconstruction-of-Specular-Microgeometry-from-Wave-Optical-BRDFs.git\"\n",
        "%cd Reconstruction-of-Specular-Microgeometry-from-Wave-Optical-BRDFs"
      ]
    },
    {
      "cell_type": "markdown",
      "metadata": {
        "id": "PDnBbUGeSn5q"
      },
      "source": [
        "### Install libraries"
      ]
    },
    {
      "cell_type": "code",
      "execution_count": null,
      "metadata": {
        "colab": {
          "base_uri": "https://localhost:8080/"
        },
        "id": "YuywLHjdLT_d",
        "outputId": "0e40110c-a050-47af-f381-d535ca252050"
      },
      "outputs": [],
      "source": [
        "%%bash\n",
        "apt install libeigen3-dev libopenexr-dev python3-pip\n",
        "pip install pybind11"
      ]
    },
    {
      "cell_type": "markdown",
      "metadata": {
        "id": "5mA6fKKdSuX2"
      },
      "source": [
        "### Compile"
      ]
    },
    {
      "cell_type": "code",
      "execution_count": null,
      "metadata": {
        "colab": {
          "base_uri": "https://localhost:8080/"
        },
        "id": "UcSr0PUTMkXQ",
        "outputId": "f59eff65-9c2a-45f4-fb23-0edbb72d7948"
      },
      "outputs": [],
      "source": [
        "!make -f WaveOpticsBrdf/makefile.linux"
      ]
    },
    {
      "cell_type": "markdown",
      "metadata": {
        "id": "0zLEjdzZTr0C"
      },
      "source": [
        "### Download heightfields"
      ]
    },
    {
      "cell_type": "code",
      "execution_count": null,
      "metadata": {
        "colab": {
          "base_uri": "https://localhost:8080/"
        },
        "id": "EmdTPH3lOS6S",
        "outputId": "47919c47-d13f-4e39-9bd3-db213701f447"
      },
      "outputs": [],
      "source": [
        "%%bash\n",
        "mkdir heightfields\n",
        "wget -O heightfields/isotropic.exr https://www.dropbox.com/s/siepjp35pfw218i/isotropic.exr?dl=1\n",
        "wget -O heightfields/scratched.exr https://www.dropbox.com/s/siepjp35pfw218i/scratched.exr?dl=1\n",
        "wget -O heightfields/brushed_8K.exr https://www.dropbox.com/s/siepjp35pfw218i/brushed_8K.exr?dl=1"
      ]
    },
    {
      "cell_type": "markdown",
      "metadata": {
        "id": "OggPjsB2RfVO"
      },
      "source": [
        "## Run"
      ]
    },
    {
      "cell_type": "code",
      "execution_count": null,
      "metadata": {
        "colab": {
          "base_uri": "https://localhost:8080/"
        },
        "id": "g5HZO0acOIQf",
        "outputId": "62decdb5-1d48-411e-b6c5-cb912697d57f"
      },
      "outputs": [],
      "source": [
        "%%bash\n",
        "mkdir results\n",
        "./genBrdf -m Wave -d OHS -i heightfields/isotropic.exr -o results/isotropicBrdf.exr -x 512 -y 512 -p 10.0 -w 1.0 -s -1.0 -t -1.0 -r 128\n",
        "./genBrdf -m Wave -d OHS -i heightfields/scratched.exr -o results/scratchedBrdf.exr -x 512 -y 512 -p 10.0 -w 1.0 -s -1.0 -t -1.0 -r 128\n",
        "./genBrdf -m Wave -d OHS -i heightfields/brushed_geom_brdf.exr -o results/brushed_geom_brdf.exr -x 512 -y 512 -p 10.0 -w 1.0 -s -1.0 -t -1.0 -r 128"
      ]
    },
    {
      "cell_type": "markdown",
      "metadata": {
        "id": "NsOIeq4eUp5d"
      },
      "source": [
        "## Download to local machine"
      ]
    },
    {
      "cell_type": "code",
      "execution_count": null,
      "metadata": {
        "colab": {
          "base_uri": "https://localhost:8080/",
          "height": 17
        },
        "id": "SDvIB-jam7wo",
        "outputId": "694156ef-0501-498a-f118-db1e353a1214"
      },
      "outputs": [],
      "source": [
        "!zip -r results.zip results\n",
        "\n",
        "from google.colab import files\n",
        "\n",
        "files.download(\"results.zip\")"
      ]
    }
  ],
  "metadata": {
    "colab": {
      "authorship_tag": "ABX9TyNZF7s+dkzjkyLz0SgbxtcN",
      "collapsed_sections": [],
      "include_colab_link": true,
      "name": "WaveOpticsBRDF sandbox.ipynb",
      "provenance": []
    },
    "kernelspec": {
      "display_name": "Python 3",
      "name": "python3"
    },
    "language_info": {
      "name": "python"
    }
  },
  "nbformat": 4,
  "nbformat_minor": 0
}
